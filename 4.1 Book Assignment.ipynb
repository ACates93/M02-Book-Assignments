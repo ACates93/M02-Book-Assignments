{
 "cells": [
  {
   "cell_type": "code",
   "execution_count": 1,
   "id": "61bfd635",
   "metadata": {},
   "outputs": [],
   "source": [
    "secret = 7"
   ]
  },
  {
   "cell_type": "code",
   "execution_count": 2,
   "id": "4ec8b4ec",
   "metadata": {},
   "outputs": [],
   "source": [
    "guess = 9"
   ]
  },
  {
   "cell_type": "code",
   "execution_count": 7,
   "id": "dfa66707",
   "metadata": {},
   "outputs": [
    {
     "name": "stdout",
     "output_type": "stream",
     "text": [
      "Too high\n"
     ]
    }
   ],
   "source": [
    "if guess < secret:\n",
    "    print('Too low')\n",
    "elif guess > secret:\n",
    "    print('Too high')\n",
    "elif guess == secret:\n",
    "    print('Just right')"
   ]
  },
  {
   "cell_type": "code",
   "execution_count": null,
   "id": "e65d88a7",
   "metadata": {},
   "outputs": [],
   "source": []
  }
 ],
 "metadata": {
  "kernelspec": {
   "display_name": "Python 3 (ipykernel)",
   "language": "python",
   "name": "python3"
  },
  "language_info": {
   "codemirror_mode": {
    "name": "ipython",
    "version": 3
   },
   "file_extension": ".py",
   "mimetype": "text/x-python",
   "name": "python",
   "nbconvert_exporter": "python",
   "pygments_lexer": "ipython3",
   "version": "3.9.13"
  }
 },
 "nbformat": 4,
 "nbformat_minor": 5
}
